{
 "cells": [
  {
   "cell_type": "code",
   "execution_count": 2,
   "id": "5b34f722",
   "metadata": {},
   "outputs": [
    {
     "name": "stdout",
     "output_type": "stream",
     "text": [
      "Table 1 written to Excel sheet Table_1\n",
      "All tables have been written to EPL_Stats.xlsx\n"
     ]
    }
   ],
   "source": [
    "import requests\n",
    "from bs4 import BeautifulSoup\n",
    "import pandas as pd\n",
    "\n",
    "# Define the URL\n",
    "url = 'https://www.premierleague.com/stats/top/players/goals?se=-1'\n",
    "\n",
    "# Send an HTTP request to the URL\n",
    "response = requests.get(url)\n",
    "\n",
    "# Create a BeautifulSoup object to parse the HTML content\n",
    "soup = BeautifulSoup(response.content, 'html.parser')\n",
    "\n",
    "# Find all tables on the page\n",
    "tables = soup.find_all('table')\n",
    "\n",
    "# Function to flatten MultiIndex columns\n",
    "def flatten_multiindex_columns(df):\n",
    "    df.columns = [' '.join(col).strip() if isinstance(col, tuple) else col for col in df.columns.values]\n",
    "    return df\n",
    "\n",
    "# Create a Pandas Excel writer using Openpyxl as the engine\n",
    "with pd.ExcelWriter('EPL_Stats.xlsx', engine='openpyxl') as writer:\n",
    "    # Loop through each table and convert it to a DataFrame\n",
    "    for i, table in enumerate(tables):\n",
    "        # Read the table into a DataFrame\n",
    "        df = pd.read_html(str(table))[0]\n",
    "\n",
    "        # Flatten MultiIndex columns if necessary\n",
    "        if isinstance(df.columns, pd.MultiIndex):\n",
    "            df = flatten_multiindex_columns(df)\n",
    "\n",
    "        # Write each DataFrame to a different sheet in the Excel file\n",
    "        df.to_excel(writer, sheet_name=f'Table_{i+1}', index=False)\n",
    "\n",
    "        print(f'Table {i+1} written to Excel sheet Table_{i+1}')\n",
    "\n",
    "print('All tables have been written to EPL_Stats.xlsx')\n"
   ]
  },
  {
   "cell_type": "code",
   "execution_count": null,
   "id": "0ef3f74f",
   "metadata": {},
   "outputs": [],
   "source": []
  }
 ],
 "metadata": {
  "kernelspec": {
   "display_name": "Python 3 (ipykernel)",
   "language": "python",
   "name": "python3"
  },
  "language_info": {
   "codemirror_mode": {
    "name": "ipython",
    "version": 3
   },
   "file_extension": ".py",
   "mimetype": "text/x-python",
   "name": "python",
   "nbconvert_exporter": "python",
   "pygments_lexer": "ipython3",
   "version": "3.11.4"
  }
 },
 "nbformat": 4,
 "nbformat_minor": 5
}
